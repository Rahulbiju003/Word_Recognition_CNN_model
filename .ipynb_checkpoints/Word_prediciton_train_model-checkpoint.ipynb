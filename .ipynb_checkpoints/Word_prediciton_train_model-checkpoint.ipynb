{
 "cells": [
  {
   "cell_type": "code",
   "execution_count": 1,
   "id": "75d1b423",
   "metadata": {},
   "outputs": [],
   "source": [
    "import matplotlib.pyplot as plt\n",
    "import numpy as np\n",
    "from tensorflow import keras\n",
    "from tensorflow.keras import layers\n",
    "from keras.preprocessing.image import ImageDataGenerator,load_img,img_to_array\n",
    "import os"
   ]
  },
  {
   "cell_type": "code",
   "execution_count": 2,
   "id": "d44be396",
   "metadata": {},
   "outputs": [],
   "source": [
    "train_data_gen = ImageDataGenerator(rescale = 1)"
   ]
  },
  {
   "cell_type": "code",
   "execution_count": 3,
   "id": "e2ddd067",
   "metadata": {},
   "outputs": [
    {
     "data": {
      "image/png": "[encoded data removed]",
      "text/plain": [
       "<Figure size 432x288 with 1 Axes>"
      ]
     },
     "metadata": {
      "needs_background": "light"
     },
     "output_type": "display_data"
    }
   ],
   "source": [
    "img = load_img('./words/a/01_100.png')\n",
    "plt.imshow(img)\n",
    "plt.show()"
   ]
  },
  {
   "cell_type": "code",
   "execution_count": 4,
   "id": "1cfcb28e",
   "metadata": {},
   "outputs": [
    {
     "name": "stdout",
     "output_type": "stream",
     "text": [
      "Found 1573 images belonging to 4 classes.\n"
     ]
    }
   ],
   "source": [
    "i = 0\n",
    "for batch in train_data_gen.flow_from_directory('./words',target_size = (100,100),batch_size = 32):\n",
    "    image = batch[0].astype('uint8')\n",
    "    image = np.squeeze(image) \n",
    "    i = i+1\n",
    "    if i > 50:\n",
    "        break"
   ]
  },
  {
   "cell_type": "code",
   "execution_count": 5,
   "id": "a999aa6e",
   "metadata": {},
   "outputs": [],
   "source": [
    "model = keras.Sequential()\n",
    "model.add(layers.Conv2D(32,(3,3),activation = 'relu',input_shape = (100,100,3)))\n",
    "model.add(layers.MaxPooling2D((2,2)))\n",
    "model.add(layers.Conv2D(64,(3,3),activation = 'relu',input_shape = (100,100,3)))\n",
    "model.add(layers.MaxPooling2D((2,2)))\n",
    "model.add(layers.Conv2D(128,(3,3),activation = 'relu',input_shape = (100,100,3)))\n",
    "model.add(layers.MaxPooling2D((2,2)))"
   ]
  },
  {
   "cell_type": "code",
   "execution_count": 6,
   "id": "cb6534cf",
   "metadata": {},
   "outputs": [],
   "source": [
    "model.add(layers.Flatten())\n",
    "model.add(layers.Dense(512,activation = 'relu'))\n",
    "model.add(layers.Dense(4,activation = 'softmax'))"
   ]
  },
  {
   "cell_type": "code",
   "execution_count": 7,
   "id": "19d0f034",
   "metadata": {},
   "outputs": [
    {
     "name": "stdout",
     "output_type": "stream",
     "text": [
      "Found 1573 images belonging to 4 classes.\n"
     ]
    }
   ],
   "source": [
    "train_iteraor = train_data_gen.flow_from_directory('./words',batch_size=32,target_size = (100,100))"
   ]
  },
  {
   "cell_type": "code",
   "execution_count": 8,
   "id": "03e4b1e1",
   "metadata": {},
   "outputs": [
    {
     "name": "stdout",
     "output_type": "stream",
     "text": [
      "Epoch 1/8\n",
      "50/50 [==============================] - 6s 130ms/step - loss: 27.0805 - accuracy: 0.3299 - val_loss: 1.3331 - val_accuracy: 0.4221\n",
      "Epoch 2/8\n",
      "50/50 [==============================] - 6s 128ms/step - loss: 1.2055 - accuracy: 0.4959 - val_loss: 1.0806 - val_accuracy: 0.5696\n",
      "Epoch 3/8\n",
      "50/50 [==============================] - 6s 127ms/step - loss: 0.9761 - accuracy: 0.6109 - val_loss: 0.8317 - val_accuracy: 0.6656\n",
      "Epoch 4/8\n",
      "50/50 [==============================] - 6s 127ms/step - loss: 0.8140 - accuracy: 0.6809 - val_loss: 0.7139 - val_accuracy: 0.7292\n",
      "Epoch 5/8\n",
      "50/50 [==============================] - 6s 127ms/step - loss: 0.8026 - accuracy: 0.6872 - val_loss: 0.9654 - val_accuracy: 0.6497\n",
      "Epoch 6/8\n",
      "50/50 [==============================] - 6s 127ms/step - loss: 0.7408 - accuracy: 0.7146 - val_loss: 0.6172 - val_accuracy: 0.7667\n",
      "Epoch 7/8\n",
      "50/50 [==============================] - 6s 127ms/step - loss: 0.5949 - accuracy: 0.7743 - val_loss: 0.5110 - val_accuracy: 0.8017\n",
      "Epoch 8/8\n",
      "50/50 [==============================] - 6s 127ms/step - loss: 0.4986 - accuracy: 0.8036 - val_loss: 0.3776 - val_accuracy: 0.8538\n"
     ]
    }
   ],
   "source": [
    "model.compile(loss ='categorical_crossentropy',metrics=['accuracy'],optimizer='adam')\n",
    "history = model.fit(train_iteraor,validation_data=train_iteraor,epochs=8)"
   ]
  },
  {
   "cell_type": "code",
   "execution_count": 137,
   "id": "19470896",
   "metadata": {},
   "outputs": [],
   "source": [
    "model.save('./Word_prediction_model.h5')"
   ]
  },
  {
   "cell_type": "code",
   "execution_count": null,
   "id": "8a14a81f",
   "metadata": {},
   "outputs": [],
   "source": []
  }
 ],
 "metadata": {
  "kernelspec": {
   "display_name": "Python 3",
   "language": "python",
   "name": "python3"
  },
  "language_info": {
   "codemirror_mode": {
    "name": "ipython",
    "version": 3
   },
   "file_extension": ".py",
   "mimetype": "text/x-python",
   "name": "python",
   "nbconvert_exporter": "python",
   "pygments_lexer": "ipython3",
   "version": "3.8.8"
  }
 },
 "nbformat": 4,
 "nbformat_minor": 5
}
