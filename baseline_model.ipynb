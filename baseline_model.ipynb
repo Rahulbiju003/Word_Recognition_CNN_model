{
 "cells": [
  {
   "cell_type": "code",
   "execution_count": 2,
   "id": "75d1b423",
   "metadata": {},
   "outputs": [],
   "source": [
    "import matplotlib.pyplot as plt\n",
    "import numpy as np\n",
    "from tensorflow import keras\n",
    "from tensorflow.keras import layers\n",
    "from keras.preprocessing.image import ImageDataGenerator,load_img,img_to_array\n",
    "import os"
   ]
  },
  {
   "cell_type": "code",
   "execution_count": 8,
   "id": "d44be396",
   "metadata": {},
   "outputs": [],
   "source": [
    "train_data_gen = ImageDataGenerator(rescale = 1)"
   ]
  },
  {
   "cell_type": "code",
   "execution_count": 9,
   "id": "e2ddd067",
   "metadata": {},
   "outputs": [
    {
     "data": {
      "image/png": "[encoded data removed]",
      "text/plain": [
       "<Figure size 432x288 with 1 Axes>"
      ]
     },
     "metadata": {
      "needs_background": "light"
     },
     "output_type": "display_data"
    }
   ],
   "source": [
    "img = load_img('./words/a/01_100.png')\n",
    "plt.imshow(img)\n",
    "plt.show()"
   ]
  },
  {
   "cell_type": "code",
   "execution_count": 10,
   "id": "1cfcb28e",
   "metadata": {},
   "outputs": [
    {
     "name": "stdout",
     "output_type": "stream",
     "text": [
      "Found 1573 images belonging to 4 classes.\n"
     ]
    }
   ],
   "source": [
    "i = 0\n",
    "for batch in train_data_gen.flow_from_directory('./words',target_size = (100,100),batch_size = 32):\n",
    "    image = batch[0].astype('uint8')\n",
    "    image = np.squeeze(image) \n",
    "    i = i+1\n",
    "    if i > 50:\n",
    "        break"
   ]
  },
  {
   "cell_type": "code",
   "execution_count": 11,
   "id": "a999aa6e",
   "metadata": {},
   "outputs": [],
   "source": [
    "model = keras.Sequential()\n",
    "model.add(layers.Conv2D(32,(3,3),activation = 'relu',input_shape = (100,100,3)))\n",
    "model.add(layers.MaxPooling2D((2,2)))\n",
    "model.add(layers.Conv2D(64,(3,3),activation = 'relu',input_shape = (100,100,3)))\n",
    "model.add(layers.MaxPooling2D((2,2)))\n",
    "model.add(layers.Conv2D(128,(3,3),activation = 'relu',input_shape = (100,100,3)))\n",
    "model.add(layers.MaxPooling2D((2,2)))"
   ]
  },
  {
   "cell_type": "code",
   "execution_count": 12,
   "id": "cb6534cf",
   "metadata": {},
   "outputs": [],
   "source": [
    "model.add(layers.Flatten())\n",
    "model.add(layers.Dense(512,activation = 'relu'))\n",
    "model.add(layers.Dense(4,activation = 'softmax'))"
   ]
  },
  {
   "cell_type": "code",
   "execution_count": 13,
   "id": "19d0f034",
   "metadata": {},
   "outputs": [
    {
     "name": "stdout",
     "output_type": "stream",
     "text": [
      "Found 1573 images belonging to 4 classes.\n"
     ]
    }
   ],
   "source": [
    "train_iteraor = train_data_gen.flow_from_directory('./words',batch_size=32,target_size = (100,100))"
   ]
  },
  {
   "cell_type": "code",
   "execution_count": 20,
   "id": "03e4b1e1",
   "metadata": {},
   "outputs": [
    {
     "name": "stdout",
     "output_type": "stream",
     "text": [
      "Epoch 1/8\n",
      "50/50 [==============================] - 7s 131ms/step - loss: 21.8745 - accuracy: 0.3363 - val_loss: 1.5597 - val_accuracy: 0.3808\n",
      "Epoch 2/8\n",
      "50/50 [==============================] - 6s 128ms/step - loss: 1.1461 - accuracy: 0.5111 - val_loss: 0.8570 - val_accuracy: 0.6612\n",
      "Epoch 3/8\n",
      "50/50 [==============================] - 6s 128ms/step - loss: 1.0536 - accuracy: 0.5912 - val_loss: 0.9721 - val_accuracy: 0.6154\n",
      "Epoch 4/8\n",
      "50/50 [==============================] - 6s 128ms/step - loss: 1.0069 - accuracy: 0.5919 - val_loss: 1.0828 - val_accuracy: 0.5480\n",
      "Epoch 5/8\n",
      "50/50 [==============================] - 6s 128ms/step - loss: 0.8290 - accuracy: 0.6745 - val_loss: 0.6912 - val_accuracy: 0.7279\n",
      "Epoch 6/8\n",
      "50/50 [==============================] - 6s 129ms/step - loss: 0.6902 - accuracy: 0.7279 - val_loss: 0.6290 - val_accuracy: 0.7343\n",
      "Epoch 7/8\n",
      "50/50 [==============================] - 6s 128ms/step - loss: 0.6058 - accuracy: 0.7597 - val_loss: 0.4588 - val_accuracy: 0.8163\n",
      "Epoch 8/8\n",
      "50/50 [==============================] - 7s 130ms/step - loss: 0.5543 - accuracy: 0.7896 - val_loss: 0.4034 - val_accuracy: 0.8474\n"
     ]
    }
   ],
   "source": [
    "model.compile(loss ='categorical_crossentropy',metrics=['accuracy'],optimizer='adam')\n",
    "history = model.fit(train_iteraor,validation_data=train_iteraor,epochs=8)"
   ]
  },
  {
   "cell_type": "code",
   "execution_count": 48,
   "id": "4f5be092",
   "metadata": {},
   "outputs": [
    {
     "data": {
      "image/png": "[encoded data removed]",
      "text/plain": [
       "<Figure size 432x288 with 1 Axes>"
      ]
     },
     "metadata": {
      "needs_background": "light"
     },
     "output_type": "display_data"
    }
   ],
   "source": [
    "img = load_img('./words/c/19_103.png',target_size=(100,100))\n",
    "plt.imshow(img)\n",
    "plt.show()\n",
    "img = img_to_array(img)\n",
    "img = img.reshape(1,100,100,3)"
   ]
  },
  {
   "cell_type": "code",
   "execution_count": 49,
   "id": "0325acf4",
   "metadata": {},
   "outputs": [],
   "source": [
    "class_labels = {'a': 0,'b': 1,'c': 2,'e': 3}"
   ]
  },
  {
   "cell_type": "code",
   "execution_count": 65,
   "id": "31a5c128",
   "metadata": {},
   "outputs": [],
   "source": [
    "result = model.predict(img)\n",
    "prob = (max(max(result))*100)"
   ]
  },
  {
   "cell_type": "code",
   "execution_count": 66,
   "id": "2920fc7b",
   "metadata": {},
   "outputs": [
    {
     "name": "stdout",
     "output_type": "stream",
     "text": [
      "there is 84% probability that the image is c\n"
     ]
    }
   ],
   "source": [
    "if prob > 75.0 :\n",
    "    result = np.argmax(result)\n",
    "    re = [key for key in class_labels][result]\n",
    "    print(f'there is {round(prob)}% probability that the image is {re}')\n",
    "    \n",
    "else:\n",
    "    print(\"can not predict accurately\")"
   ]
  }
 ],
 "metadata": {
  "kernelspec": {
   "display_name": "Python 3",
   "language": "python",
   "name": "python3"
  },
  "language_info": {
   "codemirror_mode": {
    "name": "ipython",
    "version": 3
   },
   "file_extension": ".py",
   "mimetype": "text/x-python",
   "name": "python",
   "nbconvert_exporter": "python",
   "pygments_lexer": "ipython3",
   "version": "3.8.8"
  }
 },
 "nbformat": 4,
 "nbformat_minor": 5
}
