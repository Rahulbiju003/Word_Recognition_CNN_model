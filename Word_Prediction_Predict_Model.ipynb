{
 "cells": [
  {
   "cell_type": "code",
   "execution_count": 1,
   "id": "73c67406",
   "metadata": {},
   "outputs": [],
   "source": [
    "import keras\n",
    "import numpy as np\n",
    "import pandas as pd\n",
    "import tensorflow as tf\n",
    "from   numpy import array\n",
    "from   tensorflow import keras\n",
    "import matplotlib.pyplot as plt\n",
    "from   tensorflow.keras import layers\n",
    "from   tensorflow.keras.models import load_model\n",
    "from   keras.preprocessing.image import ImageDataGenerator,load_img,img_to_array"
   ]
  },
  {
   "cell_type": "code",
   "execution_count": 2,
   "id": "efb2d376",
   "metadata": {},
   "outputs": [],
   "source": [
    "model = load_model('./Word_prediction_model.h5')"
   ]
  },
  {
   "cell_type": "code",
   "execution_count": 3,
   "id": "14fc5dcc",
   "metadata": {},
   "outputs": [
    {
     "data": {
      "image/png": "[encoded data removed]",
      "text/plain": [
       "<Figure size 432x288 with 1 Axes>"
      ]
     },
     "metadata": {
      "needs_background": "light"
     },
     "output_type": "display_data"
    }
   ],
   "source": [
    "img = load_img('./words/a/01_105.png',target_size=(100,100))\n",
    "plt.imshow(img)\n",
    "plt.show()\n",
    "img = img_to_array(img)\n",
    "img = img.reshape(1,100,100,3)"
   ]
  },
  {
   "cell_type": "code",
   "execution_count": 4,
   "id": "5b24ef2e",
   "metadata": {},
   "outputs": [],
   "source": [
    "class_labels = {'a': 0,'b': 1,'c': 2,'e': 3}"
   ]
  },
  {
   "cell_type": "code",
   "execution_count": 5,
   "id": "69509678",
   "metadata": {},
   "outputs": [],
   "source": [
    "result = model.predict(img)\n",
    "prob = (max(max(result))*100)"
   ]
  },
  {
   "cell_type": "code",
   "execution_count": 6,
   "id": "1d26ef68",
   "metadata": {},
   "outputs": [
    {
     "name": "stdout",
     "output_type": "stream",
     "text": [
      "there is 95% probability that the image is a\n"
     ]
    }
   ],
   "source": [
    "if prob > 80.0 :\n",
    "    result = np.argmax(result)\n",
    "    re = [key for key in class_labels][result]\n",
    "    print(f'there is {round(prob)}% probability that the image is {re}')\n",
    "    \n",
    "else:\n",
    "    print(\"can not predict accurately\")"
   ]
  }
 ],
 "metadata": {
  "kernelspec": {
   "display_name": "Python 3",
   "language": "python",
   "name": "python3"
  },
  "language_info": {
   "codemirror_mode": {
    "name": "ipython",
    "version": 3
   },
   "file_extension": ".py",
   "mimetype": "text/x-python",
   "name": "python",
   "nbconvert_exporter": "python",
   "pygments_lexer": "ipython3",
   "version": "3.8.8"
  }
 },
 "nbformat": 4,
 "nbformat_minor": 5
}
